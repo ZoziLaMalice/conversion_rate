{
 "nbformat": 4,
 "nbformat_minor": 2,
 "metadata": {
  "language_info": {
   "name": "python",
   "codemirror_mode": {
    "name": "ipython",
    "version": 3
   },
   "version": "3.6.9-final"
  },
  "orig_nbformat": 2,
  "file_extension": ".py",
  "mimetype": "text/x-python",
  "name": "python",
  "npconvert_exporter": "python",
  "pygments_lexer": "ipython3",
  "version": 3,
  "kernelspec": {
   "name": "python36964bit866c7ce2984b489bbe52b965dc9087aa",
   "display_name": "Python 3.6.9 64-bit"
  }
 },
 "cells": [
  {
   "cell_type": "code",
   "execution_count": 9,
   "metadata": {},
   "outputs": [],
   "source": [
    "import pandas as pd\n",
    "import numpy as np\n",
    "import seaborn as sns\n",
    "import matplotlib.pyplot as plt\n",
    "\n",
    "from sklearn.model_selection import train_test_split, GridSearchCV\n",
    "from sklearn.preprocessing import  StandardScaler, OneHotEncoder\n",
    "from sklearn.ensemble import RandomForestClassifier\n",
    "from sklearn.compose import ColumnTransformer\n",
    "from sklearn.tree import DecisionTreeClassifier, export_graphviz\n",
    "from sklearn.metrics import accuracy_score, classification_report"
   ]
  },
  {
   "cell_type": "code",
   "execution_count": 2,
   "metadata": {},
   "outputs": [
    {
     "output_type": "execute_result",
     "data": {
      "text/plain": "  country  age  new_user  source  total_pages_visited  converted\n0      UK   25         1     Ads                    1          0\n1      US   23         1     Seo                    5          0\n2      US   28         1     Seo                    4          0\n3   China   39         1     Seo                    5          0\n4      US   30         1     Seo                    6          0\n5      US   31         0     Seo                    1          0\n6   China   27         1     Seo                    4          0\n7      US   23         0     Ads                    4          0\n8      UK   29         0  Direct                    4          0\n9      US   25         0     Ads                    2          0",
      "text/html": "<div>\n<style scoped>\n    .dataframe tbody tr th:only-of-type {\n        vertical-align: middle;\n    }\n\n    .dataframe tbody tr th {\n        vertical-align: top;\n    }\n\n    .dataframe thead th {\n        text-align: right;\n    }\n</style>\n<table border=\"1\" class=\"dataframe\">\n  <thead>\n    <tr style=\"text-align: right;\">\n      <th></th>\n      <th>country</th>\n      <th>age</th>\n      <th>new_user</th>\n      <th>source</th>\n      <th>total_pages_visited</th>\n      <th>converted</th>\n    </tr>\n  </thead>\n  <tbody>\n    <tr>\n      <th>0</th>\n      <td>UK</td>\n      <td>25</td>\n      <td>1</td>\n      <td>Ads</td>\n      <td>1</td>\n      <td>0</td>\n    </tr>\n    <tr>\n      <th>1</th>\n      <td>US</td>\n      <td>23</td>\n      <td>1</td>\n      <td>Seo</td>\n      <td>5</td>\n      <td>0</td>\n    </tr>\n    <tr>\n      <th>2</th>\n      <td>US</td>\n      <td>28</td>\n      <td>1</td>\n      <td>Seo</td>\n      <td>4</td>\n      <td>0</td>\n    </tr>\n    <tr>\n      <th>3</th>\n      <td>China</td>\n      <td>39</td>\n      <td>1</td>\n      <td>Seo</td>\n      <td>5</td>\n      <td>0</td>\n    </tr>\n    <tr>\n      <th>4</th>\n      <td>US</td>\n      <td>30</td>\n      <td>1</td>\n      <td>Seo</td>\n      <td>6</td>\n      <td>0</td>\n    </tr>\n    <tr>\n      <th>5</th>\n      <td>US</td>\n      <td>31</td>\n      <td>0</td>\n      <td>Seo</td>\n      <td>1</td>\n      <td>0</td>\n    </tr>\n    <tr>\n      <th>6</th>\n      <td>China</td>\n      <td>27</td>\n      <td>1</td>\n      <td>Seo</td>\n      <td>4</td>\n      <td>0</td>\n    </tr>\n    <tr>\n      <th>7</th>\n      <td>US</td>\n      <td>23</td>\n      <td>0</td>\n      <td>Ads</td>\n      <td>4</td>\n      <td>0</td>\n    </tr>\n    <tr>\n      <th>8</th>\n      <td>UK</td>\n      <td>29</td>\n      <td>0</td>\n      <td>Direct</td>\n      <td>4</td>\n      <td>0</td>\n    </tr>\n    <tr>\n      <th>9</th>\n      <td>US</td>\n      <td>25</td>\n      <td>0</td>\n      <td>Ads</td>\n      <td>2</td>\n      <td>0</td>\n    </tr>\n  </tbody>\n</table>\n</div>"
     },
     "metadata": {},
     "execution_count": 2
    }
   ],
   "source": [
    "df = pd.read_csv(\"../Dataset/conversion_data.csv\")\n",
    "df.head(10)"
   ]
  },
  {
   "cell_type": "code",
   "execution_count": 3,
   "metadata": {},
   "outputs": [
    {
     "output_type": "stream",
     "name": "stdout",
     "text": "Separating labels from features...\n...Done.\n\ny : \n0    0\n1    0\n2    0\n3    0\n4    0\nName: converted, dtype: int64\n\nX :\n  country  age  new_user source  total_pages_visited\n0      UK   25         1    Ads                    1\n1      US   23         1    Seo                    5\n2      US   28         1    Seo                    4\n3   China   39         1    Seo                    5\n4      US   30         1    Seo                    6\n"
    }
   ],
   "source": [
    "# Separate target variable Y from features X\n",
    "print(\"Separating labels from features...\")\n",
    "features_list = [\"country\", \"age\", \"new_user\", \"source\", \"total_pages_visited\"]\n",
    "target_variable = \"converted\"\n",
    "\n",
    "X = df.loc[:,features_list]\n",
    "y = df.loc[:,target_variable]\n",
    "\n",
    "print(\"...Done.\")\n",
    "print()\n",
    "\n",
    "print('y : ')\n",
    "print(y.head())\n",
    "print()\n",
    "print('X :')\n",
    "print(X.head())"
   ]
  },
  {
   "cell_type": "code",
   "execution_count": 4,
   "metadata": {},
   "outputs": [
    {
     "output_type": "stream",
     "name": "stdout",
     "text": "Found numeric features  ['age', 'new_user', 'total_pages_visited']  at positions  [1, 2, 4]\nFound categorical features  ['country', 'source']  at positions  [0, 3]\n"
    }
   ],
   "source": [
    "# Search categorical features and numeric features\n",
    "\n",
    "idx = 0\n",
    "numeric_features = []\n",
    "numeric_indices = []\n",
    "categorical_features = []\n",
    "categorical_indices = []\n",
    "for i,t in X.dtypes.iteritems():\n",
    "  if ('float' in str(t)) or ('int' in str(t)) :\n",
    "    numeric_features.append(i)\n",
    "    numeric_indices.append(idx)\n",
    "  else :\n",
    "    categorical_features.append(i)\n",
    "    categorical_indices.append(idx)\n",
    "\n",
    "  idx = idx + 1\n",
    "\n",
    "print('Found numeric features ', numeric_features,' at positions ', numeric_indices)\n",
    "print('Found categorical features ', categorical_features,' at positions ', categorical_indices)"
   ]
  },
  {
   "cell_type": "code",
   "execution_count": 5,
   "metadata": {},
   "outputs": [
    {
     "output_type": "stream",
     "name": "stdout",
     "text": "Dividing into train and test sets...\n...Done.\n\n"
    }
   ],
   "source": [
    "# Divide dataset Train set & Test set \n",
    "print(\"Dividing into train and test sets...\")\n",
    "X_train, X_test, y_train, y_test = train_test_split(X, y, test_size=0.2, \n",
    "                                                    random_state=42, stratify=y)\n",
    "print(\"...Done.\")\n",
    "print()"
   ]
  },
  {
   "cell_type": "code",
   "execution_count": 6,
   "metadata": {},
   "outputs": [
    {
     "output_type": "stream",
     "name": "stdout",
     "text": "Convert pandas DataFrames to numpy arrays...\n...Done\n[['US' 27 1 'Seo' 19]\n ['US' 34 0 'Seo' 1]\n ['China' 23 1 'Seo' 5]\n ['China' 42 0 'Seo' 7]\n ['UK' 24 1 'Direct' 4]]\n[['China' 33 1 'Ads' 3]\n ['US' 31 1 'Direct' 4]]\n\n[1, 0, 0, 0, 0]\n[0, 0]\n"
    }
   ],
   "source": [
    "# Convert pandas DataFrames to numpy arrays before using scikit-learn\n",
    "print(\"Convert pandas DataFrames to numpy arrays...\")\n",
    "X_train = X_train.values\n",
    "X_test = X_test.values\n",
    "y_train = y_train.tolist()\n",
    "y_test = y_test.tolist()\n",
    "print(\"...Done\")\n",
    "\n",
    "print(X_train[0:5,:])\n",
    "print(X_test[0:2,:])\n",
    "print()\n",
    "print(y_train[0:5])\n",
    "print(y_test[0:2])"
   ]
  },
  {
   "cell_type": "markdown",
   "metadata": {},
   "source": [
    "# Encoding & Standardizing"
   ]
  },
  {
   "cell_type": "code",
   "execution_count": 7,
   "metadata": {},
   "outputs": [
    {
     "output_type": "stream",
     "name": "stdout",
     "text": "Encoding categorical features and standardizing numerical features...\n\n[['US' 27 1 'Seo' 19]\n ['US' 34 0 'Seo' 1]\n ['China' 23 1 'Seo' 5]\n ['China' 42 0 'Seo' 7]\n ['UK' 24 1 'Direct' 4]]\n\n[['China' 33 1 'Ads' 3]\n ['US' 31 1 'Direct' 4]\n ['US' 42 1 'Ads' 2]\n ['China' 40 0 'Seo' 4]\n ['US' 25 1 'Seo' 10]]\n...Done\n[[-0.43186335  0.67712916  4.22843969  0.          0.          1.\n   0.          1.        ]\n [ 0.41465401 -1.47682312 -1.16004158  0.          0.          1.\n   0.          1.        ]\n [-0.91558756  0.67712916  0.03739871  0.          0.          0.\n   0.          1.        ]\n [ 1.38210242 -1.47682312  0.63611885  0.          0.          0.\n   0.          1.        ]\n [-0.79465651  0.67712916 -0.26196136  0.          1.          0.\n   1.          0.        ]]\n[[ 0.29372296  0.67712916 -0.56132143  0.          0.          0.\n   0.          0.        ]\n [ 0.05186085  0.67712916 -0.26196136  0.          0.          1.\n   1.          0.        ]\n [ 1.38210242  0.67712916 -0.8606815   0.          0.          1.\n   0.          0.        ]\n [ 1.14024032 -1.47682312 -0.26196136  0.          0.          0.\n   0.          1.        ]\n [-0.67372546  0.67712916  1.53419906  0.          0.          1.\n   0.          1.        ]]\n"
    }
   ],
   "source": [
    "# Encoding categorical features and standardizing numerical features\n",
    "print(\"Encoding categorical features and standardizing numerical features...\")\n",
    "print()\n",
    "print(X_train[0:5,:])\n",
    "print()\n",
    "print(X_test[0:5,:])\n",
    "\n",
    "# Normalization\n",
    "numeric_transformer = StandardScaler()\n",
    "\n",
    "# OneHotEncoder\n",
    "categorical_transformer = OneHotEncoder(drop='first')\n",
    "\n",
    "featureencoder = ColumnTransformer(\n",
    "    transformers=[\n",
    "        ('num', numeric_transformer, numeric_indices),\n",
    "        ('cat', categorical_transformer, categorical_indices)        \n",
    "        ]\n",
    "    )\n",
    "\n",
    "X_train = featureencoder.fit_transform(X_train)\n",
    "X_test = featureencoder.transform(X_test)\n",
    "print(\"...Done\")\n",
    "print(X_train[0:5,:])\n",
    "print(X_test[0:5])"
   ]
  },
  {
   "cell_type": "markdown",
   "metadata": {},
   "source": [
    "# Training pipeline"
   ]
  },
  {
   "cell_type": "code",
   "execution_count": 8,
   "metadata": {},
   "outputs": [
    {
     "output_type": "stream",
     "name": "stdout",
     "text": "Train model...\n...Done.\n"
    }
   ],
   "source": [
    "# Train model\n",
    "print(\"Train model...\")\n",
    "classifier = RandomForestClassifier()\n",
    "\n",
    "params = {\n",
    "    'n_estimators': [50, 100],\n",
    "    'criterion': ['gini', 'entropy']\n",
    "}\n",
    "\n",
    "best_forest = GridSearchCV(classifier, params, cv=10)\n",
    "best_forest.fit(X_train, y_train)\n",
    "print(\"...Done.\")"
   ]
  },
  {
   "cell_type": "code",
   "execution_count": 10,
   "metadata": {},
   "outputs": [
    {
     "output_type": "execute_result",
     "data": {
      "text/plain": "{'criterion': 'gini', 'n_estimators': 100}"
     },
     "metadata": {},
     "execution_count": 10
    }
   ],
   "source": [
    "best_forest.best_params_"
   ]
  },
  {
   "cell_type": "code",
   "execution_count": 16,
   "metadata": {},
   "outputs": [
    {
     "output_type": "stream",
     "name": "stdout",
     "text": "Train score :  0.9883815623023403 \n\nTrain score :  0.9842346616065781 \n\n"
    }
   ],
   "source": [
    "# Predictions\n",
    "y_train_pred = best_forest.best_estimator_.predict(X_train)\n",
    "y_test_pred = best_forest.best_estimator_.predict(X_test)\n",
    "\n",
    "print('Train score : ', best_forest.best_estimator_.score(X_train, y_train), '\\n')\n",
    "print('Train score : ', best_forest.best_estimator_.score(X_test, y_test), '\\n')"
   ]
  },
  {
   "cell_type": "code",
   "execution_count": 17,
   "metadata": {},
   "outputs": [],
   "source": [
    "misclass = X_test[(y_test==1) & (best_forest.best_estimator_.predict(X_test)==0)]\n",
    "misclass2 = X_test[(y_test==0) & (best_forest.best_estimator_.predict(X_test)==1)]"
   ]
  },
  {
   "cell_type": "code",
   "execution_count": 19,
   "metadata": {},
   "outputs": [
    {
     "output_type": "execute_result",
     "data": {
      "text/plain": "array([], shape=(0, 8), dtype=float64)"
     },
     "metadata": {},
     "execution_count": 19
    }
   ],
   "source": [
    "misclass"
   ]
  },
  {
   "cell_type": "code",
   "execution_count": 20,
   "metadata": {},
   "outputs": [
    {
     "output_type": "execute_result",
     "data": {
      "text/plain": "array([], shape=(0, 8), dtype=float64)"
     },
     "metadata": {},
     "execution_count": 20
    }
   ],
   "source": [
    "misclass2"
   ]
  },
  {
   "cell_type": "code",
   "execution_count": null,
   "metadata": {},
   "outputs": [],
   "source": []
  }
 ]
}